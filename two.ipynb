{
 "cells": [
  {
   "cell_type": "code",
   "execution_count": null,
   "metadata": {},
   "outputs": [],
   "source": [
    "# Phoebe Waters DVAMI19h\n",
    "\n",
    "import pandas as pd\n",
    "import numpy as np\n",
    "import matplotlib.pyplot as plt\n",
    "# pip install pyqt5\n",
    "from sklearn.preprocessing import KBinsDiscretizer"
   ]
  },
  {
   "cell_type": "code",
   "execution_count": null,
   "metadata": {},
   "outputs": [],
   "source": [
    "#fixing dataset\n",
    "df = pd.read_csv(\"spambase.csv\")\n",
    "\n",
    "df = df.drop_duplicates()\n",
    "df = df.reset_index()"
   ]
  },
  {
   "cell_type": "code",
   "execution_count": null,
   "metadata": {},
   "outputs": [],
   "source": [
    "#high percentage = 1\n",
    "#meadium = 0\n",
    "#low = -1\n",
    "# here I made my own binning function, however there are functions available in dataprocessing libraries.\n",
    "\n",
    "def descretinization_3(column_list):\n",
    "    mean = column_list.mean()\n",
    "    std = column_list.std()\n",
    "\n",
    "    for index,value in column_list.items():\n",
    "        if value > mean + std:\n",
    "            column_list[index] = 1\n",
    "        elif value < mean - std:\n",
    "            column_list[index] = -1\n",
    "        else:\n",
    "            column_list[index] = 0"
   ]
  },
  {
   "cell_type": "code",
   "execution_count": null,
   "metadata": {},
   "outputs": [],
   "source": [
    "# another way to descretecize\n",
    "est = KBinsDiscretizer(n_bins= 5, encode='ordinal', strategy='normal')\n",
    "est.fit(df)\n",
    "df = est.transform(df)"
   ]
  },
  {
   "cell_type": "code",
   "execution_count": null,
   "metadata": {},
   "outputs": [],
   "source": [
    "#algorithm 4.1 with 4......\n",
    "\n",
    "def algorithm(dataframe):\n",
    "    print(\"hello\")"
   ]
  }
 ],
 "metadata": {
  "kernelspec": {
   "display_name": "Python 3.10.8 64-bit",
   "language": "python",
   "name": "python3"
  },
  "language_info": {
   "name": "python",
   "version": "3.10.8"
  },
  "orig_nbformat": 4,
  "vscode": {
   "interpreter": {
    "hash": "6e6c2a0c3ddeee498f87aa58a523895f9a2c8582a67a9ea22d7988202e471483"
   }
  }
 },
 "nbformat": 4,
 "nbformat_minor": 2
}

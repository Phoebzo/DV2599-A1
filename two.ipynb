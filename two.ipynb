{
 "cells": [
  {
   "cell_type": "code",
   "execution_count": 1,
   "metadata": {},
   "outputs": [
    {
     "data": {
      "text/plain": [
       "'5.3.2'"
      ]
     },
     "execution_count": 1,
     "metadata": {},
     "output_type": "execute_result"
    }
   ],
   "source": [
    "# Phoebe Waters DVAMI19h\n",
    "\n",
    "import pandas as pd\n",
    "import numpy as np\n",
    "import matplotlib.pyplot as plt\n",
    "# pip install pyqt5\n",
    "from sklearn.preprocessing import KBinsDiscretizer\n",
    "\n",
    "import ipykernel\n",
    "ipykernel.__version__"
   ]
  },
  {
   "cell_type": "code",
   "execution_count": 2,
   "metadata": {},
   "outputs": [],
   "source": [
    "#fixing dataset\n",
    "df = pd.read_csv(\"spambase.csv\")\n",
    "\n",
    "df = df.drop_duplicates()\n",
    "df = df.reset_index()"
   ]
  },
  {
   "cell_type": "code",
   "execution_count": 3,
   "metadata": {},
   "outputs": [],
   "source": [
    "#high percentage = 1\n",
    "#meadium = 0\n",
    "#low = -1\n",
    "# here I made my own quantile function, however there are functions available in dataprocessing libraries.\n",
    "\n",
    "def descretinization_3(column_list):\n",
    "    mean = column_list.mean()\n",
    "    std = column_list.std()\n",
    "\n",
    "    for index,value in column_list.items():\n",
    "        if value > mean + std:\n",
    "            column_list[index] = 1\n",
    "        elif value < mean - std:\n",
    "            column_list[index] = -1\n",
    "        else:\n",
    "            column_list[index] = 0"
   ]
  },
  {
   "cell_type": "code",
   "execution_count": 4,
   "metadata": {},
   "outputs": [],
   "source": [
    "# another way to descretecize, binning\n",
    "est = KBinsDiscretizer(n_bins= 5, encode='ordinal', strategy='uniform')\n",
    "est.fit(df)\n",
    "df_matrix = est.transform(df)"
   ]
  },
  {
   "cell_type": "code",
   "execution_count": 5,
   "metadata": {},
   "outputs": [
    {
     "name": "stdout",
     "output_type": "stream",
     "text": [
      "      index  word_freq_make  word_freq_address  word_freq_all  word_freq_3d  \\\n",
      "0         0            0.00               0.64           0.64           0.0   \n",
      "1         1            0.21               0.28           0.50           0.0   \n",
      "2         2            0.06               0.00           0.71           0.0   \n",
      "3         3            0.00               0.00           0.00           0.0   \n",
      "4         4            0.00               0.00           0.00           0.0   \n",
      "...     ...             ...                ...            ...           ...   \n",
      "4205   4596            0.31               0.00           0.62           0.0   \n",
      "4206   4597            0.00               0.00           0.00           0.0   \n",
      "4207   4598            0.30               0.00           0.30           0.0   \n",
      "4208   4599            0.96               0.00           0.00           0.0   \n",
      "4209   4600            0.00               0.00           0.65           0.0   \n",
      "\n",
      "      word_freq_our  word_freq_over  word_freq_remove  word_freq_internet  \\\n",
      "0              0.32            0.00              0.00                0.00   \n",
      "1              0.14            0.28              0.21                0.07   \n",
      "2              1.23            0.19              0.19                0.12   \n",
      "3              0.63            0.00              0.31                0.63   \n",
      "4              0.63            0.00              0.31                0.63   \n",
      "...             ...             ...               ...                 ...   \n",
      "4205           0.00            0.31              0.00                0.00   \n",
      "4206           0.00            0.00              0.00                0.00   \n",
      "4207           0.00            0.00              0.00                0.00   \n",
      "4208           0.32            0.00              0.00                0.00   \n",
      "4209           0.00            0.00              0.00                0.00   \n",
      "\n",
      "      word_freq_order  ...  char_freq_;  char_freq_(  char_freq_[  \\\n",
      "0                0.00  ...        0.000        0.000          0.0   \n",
      "1                0.00  ...        0.000        0.132          0.0   \n",
      "2                0.64  ...        0.010        0.143          0.0   \n",
      "3                0.31  ...        0.000        0.137          0.0   \n",
      "4                0.31  ...        0.000        0.135          0.0   \n",
      "...               ...  ...          ...          ...          ...   \n",
      "4205             0.00  ...        0.000        0.232          0.0   \n",
      "4206             0.00  ...        0.000        0.000          0.0   \n",
      "4207             0.00  ...        0.102        0.718          0.0   \n",
      "4208             0.00  ...        0.000        0.057          0.0   \n",
      "4209             0.00  ...        0.000        0.000          0.0   \n",
      "\n",
      "      char_freq_!  char_freq_$  char_freq_#  capital_run_length_average  \\\n",
      "0           0.778        0.000        0.000                       3.756   \n",
      "1           0.372        0.180        0.048                       5.114   \n",
      "2           0.276        0.184        0.010                       9.821   \n",
      "3           0.137        0.000        0.000                       3.537   \n",
      "4           0.135        0.000        0.000                       3.537   \n",
      "...           ...          ...          ...                         ...   \n",
      "4205        0.000        0.000        0.000                       1.142   \n",
      "4206        0.353        0.000        0.000                       1.555   \n",
      "4207        0.000        0.000        0.000                       1.404   \n",
      "4208        0.000        0.000        0.000                       1.147   \n",
      "4209        0.125        0.000        0.000                       1.250   \n",
      "\n",
      "      capital_run_length_longest  capital_run_length_total  is_spam  \n",
      "0                             61                       278        1  \n",
      "1                            101                      1028        1  \n",
      "2                            485                      2259        1  \n",
      "3                             40                       191        1  \n",
      "4                             40                       191        1  \n",
      "...                          ...                       ...      ...  \n",
      "4205                           3                        88        0  \n",
      "4206                           4                        14        0  \n",
      "4207                           6                       118        0  \n",
      "4208                           5                        78        0  \n",
      "4209                           5                        40        0  \n",
      "\n",
      "[4210 rows x 59 columns]\n"
     ]
    }
   ],
   "source": [
    "print(df)"
   ]
  },
  {
   "cell_type": "code",
   "execution_count": 6,
   "metadata": {},
   "outputs": [],
   "source": [
    "#split data into training and testing\n",
    "training_matrix = df_matrix[:len(df_matrix)//2]\n",
    "testing_matrix = df_matrix[len(df_matrix)//2:]"
   ]
  },
  {
   "cell_type": "code",
   "execution_count": 7,
   "metadata": {},
   "outputs": [],
   "source": [
    "# algorithm 4.2 LGG conj\n",
    "\n",
    "def LGG_conj(instance, main_list):\n",
    "    list_false_index = []\n",
    "    list_values = []\n",
    "    for i in range(len(instance)):\n",
    "        #print(instance)\n",
    "        #print(main_list)\n",
    "        if instance[i] == main_list[i]:\n",
    "            list_values.append(main_list[i])\n",
    "        else:\n",
    "            list_false_index.append(i)\n",
    "    return list_false_index,list_values"
   ]
  },
  {
   "cell_type": "code",
   "execution_count": 12,
   "metadata": {},
   "outputs": [
    {
     "name": "stdout",
     "output_type": "stream",
     "text": [
      "53 53 2105\n",
      "53 53 2105\n",
      "53 53 2105\n",
      "53 53 2105\n",
      "53 53 2105\n",
      "53 53 2105\n",
      "53 53 2105\n",
      "53 53 2105\n",
      "53 53 2105\n",
      "53 53 2105\n",
      "53 52 2105\n"
     ]
    },
    {
     "ename": "IndexError",
     "evalue": "list index out of range",
     "output_type": "error",
     "traceback": [
      "\u001b[1;31m---------------------------------------------------------------------------\u001b[0m",
      "\u001b[1;31mIndexError\u001b[0m                                Traceback (most recent call last)",
      "\u001b[1;32m<ipython-input-12-9163e64b5a8c>\u001b[0m in \u001b[0;36m<module>\u001b[1;34m\u001b[0m\n\u001b[0;32m      3\u001b[0m \u001b[1;32mfor\u001b[0m \u001b[0minstance\u001b[0m \u001b[1;32min\u001b[0m \u001b[0mtraining_matrix\u001b[0m\u001b[1;33m[\u001b[0m\u001b[1;36m1\u001b[0m\u001b[1;33m:\u001b[0m\u001b[1;33m]\u001b[0m\u001b[1;33m:\u001b[0m\u001b[1;33m\u001b[0m\u001b[1;33m\u001b[0m\u001b[0m\n\u001b[0;32m      4\u001b[0m     \u001b[0mprint\u001b[0m\u001b[1;33m(\u001b[0m\u001b[0mlen\u001b[0m\u001b[1;33m(\u001b[0m\u001b[0minstance\u001b[0m\u001b[1;33m)\u001b[0m\u001b[1;33m,\u001b[0m \u001b[0mlen\u001b[0m\u001b[1;33m(\u001b[0m\u001b[0mmain_list\u001b[0m\u001b[1;33m)\u001b[0m\u001b[1;33m,\u001b[0m \u001b[0mlen\u001b[0m\u001b[1;33m(\u001b[0m\u001b[0mtraining_matrix\u001b[0m\u001b[1;33m)\u001b[0m\u001b[1;33m)\u001b[0m\u001b[1;33m\u001b[0m\u001b[1;33m\u001b[0m\u001b[0m\n\u001b[1;32m----> 5\u001b[1;33m     \u001b[0mfalse_index_list\u001b[0m\u001b[1;33m,\u001b[0m \u001b[0mmain_list\u001b[0m \u001b[1;33m=\u001b[0m \u001b[0mLGG_conj\u001b[0m\u001b[1;33m(\u001b[0m\u001b[0minstance\u001b[0m\u001b[1;33m,\u001b[0m \u001b[0mmain_list\u001b[0m\u001b[1;33m)\u001b[0m\u001b[1;33m\u001b[0m\u001b[1;33m\u001b[0m\u001b[0m\n\u001b[0m\u001b[0;32m      6\u001b[0m     \u001b[1;32mfor\u001b[0m \u001b[0mi\u001b[0m \u001b[1;32min\u001b[0m \u001b[0mfalse_index_list\u001b[0m\u001b[1;33m:\u001b[0m\u001b[1;33m\u001b[0m\u001b[1;33m\u001b[0m\u001b[0m\n\u001b[0;32m      7\u001b[0m         \u001b[0mtraining_matrix\u001b[0m \u001b[1;33m=\u001b[0m \u001b[0mnp\u001b[0m\u001b[1;33m.\u001b[0m\u001b[0mdelete\u001b[0m\u001b[1;33m(\u001b[0m\u001b[0mtraining_matrix\u001b[0m\u001b[1;33m,\u001b[0m\u001b[0mi\u001b[0m\u001b[1;33m,\u001b[0m\u001b[1;36m1\u001b[0m\u001b[1;33m)\u001b[0m\u001b[1;33m\u001b[0m\u001b[1;33m\u001b[0m\u001b[0m\n",
      "\u001b[1;32m<ipython-input-7-fc7c405eee55>\u001b[0m in \u001b[0;36mLGG_conj\u001b[1;34m(instance, main_list)\u001b[0m\n\u001b[0;32m      7\u001b[0m         \u001b[1;31m#print(instance)\u001b[0m\u001b[1;33m\u001b[0m\u001b[1;33m\u001b[0m\u001b[1;33m\u001b[0m\u001b[0m\n\u001b[0;32m      8\u001b[0m         \u001b[1;31m#print(main_list)\u001b[0m\u001b[1;33m\u001b[0m\u001b[1;33m\u001b[0m\u001b[1;33m\u001b[0m\u001b[0m\n\u001b[1;32m----> 9\u001b[1;33m         \u001b[1;32mif\u001b[0m \u001b[0minstance\u001b[0m\u001b[1;33m[\u001b[0m\u001b[0mi\u001b[0m\u001b[1;33m]\u001b[0m \u001b[1;33m==\u001b[0m \u001b[0mmain_list\u001b[0m\u001b[1;33m[\u001b[0m\u001b[0mi\u001b[0m\u001b[1;33m]\u001b[0m\u001b[1;33m:\u001b[0m\u001b[1;33m\u001b[0m\u001b[1;33m\u001b[0m\u001b[0m\n\u001b[0m\u001b[0;32m     10\u001b[0m             \u001b[0mlist_values\u001b[0m\u001b[1;33m.\u001b[0m\u001b[0mappend\u001b[0m\u001b[1;33m(\u001b[0m\u001b[0mmain_list\u001b[0m\u001b[1;33m[\u001b[0m\u001b[0mi\u001b[0m\u001b[1;33m]\u001b[0m\u001b[1;33m)\u001b[0m\u001b[1;33m\u001b[0m\u001b[1;33m\u001b[0m\u001b[0m\n\u001b[0;32m     11\u001b[0m         \u001b[1;32melse\u001b[0m\u001b[1;33m:\u001b[0m\u001b[1;33m\u001b[0m\u001b[1;33m\u001b[0m\u001b[0m\n",
      "\u001b[1;31mIndexError\u001b[0m: list index out of range"
     ]
    }
   ],
   "source": [
    "#algorithm 4.1 with 4......\n",
    "main_list = training_matrix[0]\n",
    "for instance in training_matrix[1:]:\n",
    "    print(len(instance), len(main_list), len(training_matrix[1]))\n",
    "    false_index_list, main_list = LGG_conj(instance, main_list)\n",
    "    for i in false_index_list:\n",
    "        training_matrix = np.delete(training_matrix,i,1)\n",
    "        testing_matrix = np.delete(testing_matrix,i,1)"
   ]
  }
 ],
 "metadata": {
  "kernelspec": {
   "display_name": "Python 3.8.3 ('base')",
   "language": "python",
   "name": "python3"
  },
  "language_info": {
   "codemirror_mode": {
    "name": "ipython",
    "version": 3
   },
   "file_extension": ".py",
   "mimetype": "text/x-python",
   "name": "python",
   "nbconvert_exporter": "python",
   "pygments_lexer": "ipython3",
   "version": "3.8.3"
  },
  "orig_nbformat": 4,
  "vscode": {
   "interpreter": {
    "hash": "443f9c1ab127701c4aa9f95af8a8e9be17a1f1bfbb5467de9291923846cc7a92"
   }
  }
 },
 "nbformat": 4,
 "nbformat_minor": 2
}

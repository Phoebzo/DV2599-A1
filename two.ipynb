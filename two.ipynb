{
 "cells": [
  {
   "cell_type": "code",
   "execution_count": 1,
   "metadata": {},
   "outputs": [],
   "source": [
    "# Phoebe Waters DVAMI19h\n",
    "\n",
    "import pandas as pd\n",
    "import numpy as np\n",
    "import matplotlib.pyplot as plt\n",
    "# pip install pyqt5\n",
    "from sklearn.preprocessing import KBinsDiscretizer"
   ]
  },
  {
   "cell_type": "code",
   "execution_count": 2,
   "metadata": {},
   "outputs": [],
   "source": [
    "#fixing dataset\n",
    "df = pd.read_csv(\"spambase.csv\")\n",
    "\n",
    "df = df.drop_duplicates()\n",
    "df = df.reset_index()"
   ]
  },
  {
   "cell_type": "code",
   "execution_count": null,
   "metadata": {},
   "outputs": [],
   "source": [
    "#high percentage = 1\n",
    "#meadium = 0\n",
    "#low = -1\n",
    "# here I made my own quantile function, however there are functions available in dataprocessing libraries.\n",
    "\n",
    "def descretinization_3(column_list):\n",
    "    mean = column_list.mean()\n",
    "    std = column_list.std()\n",
    "\n",
    "    for index,value in column_list.items():\n",
    "        if value > mean + std:\n",
    "            column_list[index] = 1\n",
    "        elif value < mean - std:\n",
    "            column_list[index] = -1\n",
    "        else:\n",
    "            column_list[index] = 0"
   ]
  },
  {
   "cell_type": "code",
   "execution_count": 6,
   "metadata": {},
   "outputs": [],
   "source": [
    "# another way to descretecize, binning\n",
    "est = KBinsDiscretizer(n_bins= 5, encode='ordinal', strategy='uniform')\n",
    "est.fit(df)\n",
    "df_matrix = est.transform(df)"
   ]
  },
  {
   "cell_type": "code",
   "execution_count": 5,
   "metadata": {},
   "outputs": [
    {
     "name": "stdout",
     "output_type": "stream",
     "text": [
      "[[0. 0. 0. ... 0. 0. 4.]\n",
      " [0. 0. 0. ... 0. 0. 4.]\n",
      " [0. 0. 0. ... 0. 0. 4.]\n",
      " ...\n",
      " [4. 0. 0. ... 0. 0. 0.]\n",
      " [4. 1. 0. ... 0. 0. 0.]\n",
      " [4. 0. 0. ... 0. 0. 0.]]\n"
     ]
    }
   ],
   "source": [
    "print(df)"
   ]
  },
  {
   "cell_type": "code",
   "execution_count": null,
   "metadata": {},
   "outputs": [],
   "source": [
    "#split data into training and testing"
   ]
  },
  {
   "cell_type": "code",
   "execution_count": null,
   "metadata": {},
   "outputs": [],
   "source": [
    "# algorithm 4.2 LGG conj\n",
    "\n",
    "\n",
    "def LGG_conj(instance, main_list):\n",
    "    list_false_index = []\n",
    "    list_values = []\n",
    "    for i in range(instance):\n",
    "        if instance[i] == main_list[i]:\n",
    "            list_values.append(main_list[i])\n",
    "        else:\n",
    "            list_false_index.append(i)\n",
    "\n",
    "    return list_false_index,list_values"
   ]
  },
  {
   "cell_type": "code",
   "execution_count": null,
   "metadata": {},
   "outputs": [],
   "source": [
    "#algorithm 4.1 with 4......\n",
    "main_list = df_matrix[0]\n",
    "for instance in df_matrix[1:]:\n",
    "    #compare first and second instance \n",
    "    false_index_list, main_list = LGG_conj(instance, main_list)\n",
    "    for i in false_index_list:\n",
    "        np.delete(df_matrix,i,1)"
   ]
  }
 ],
 "metadata": {
  "kernelspec": {
   "display_name": "Python 3.8.3 ('base')",
   "language": "python",
   "name": "python3"
  },
  "language_info": {
   "codemirror_mode": {
    "name": "ipython",
    "version": 3
   },
   "file_extension": ".py",
   "mimetype": "text/x-python",
   "name": "python",
   "nbconvert_exporter": "python",
   "pygments_lexer": "ipython3",
   "version": "3.8.3"
  },
  "orig_nbformat": 4,
  "vscode": {
   "interpreter": {
    "hash": "443f9c1ab127701c4aa9f95af8a8e9be17a1f1bfbb5467de9291923846cc7a92"
   }
  }
 },
 "nbformat": 4,
 "nbformat_minor": 2
}

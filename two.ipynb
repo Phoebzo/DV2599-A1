{
 "cells": [
  {
   "cell_type": "code",
   "execution_count": 43,
   "metadata": {},
   "outputs": [
    {
     "data": {
      "text/plain": [
       "'6.16.2'"
      ]
     },
     "execution_count": 43,
     "metadata": {},
     "output_type": "execute_result"
    }
   ],
   "source": [
    "# Phoebe Waters DVAMI19h\n",
    "\n",
    "import pandas as pd\n",
    "import numpy as np\n",
    "import matplotlib.pyplot as plt\n",
    "from sklearn.preprocessing import KBinsDiscretizer\n",
    "\n",
    "import ipykernel\n",
    "ipykernel.__version__"
   ]
  },
  {
   "cell_type": "code",
   "execution_count": 44,
   "metadata": {},
   "outputs": [],
   "source": [
    "#fixing dataset\n",
    "df = pd.read_csv(\"spambase.csv\")\n",
    "\n",
    "df = df.drop_duplicates()\n",
    "df = df.reset_index()\n"
   ]
  },
  {
   "cell_type": "code",
   "execution_count": 45,
   "metadata": {},
   "outputs": [
    {
     "name": "stdout",
     "output_type": "stream",
     "text": [
      "[[0. 0. 0. ... 0. 0. 9.]\n",
      " [0. 0. 0. ... 0. 0. 9.]\n",
      " [0. 0. 0. ... 0. 1. 9.]\n",
      " ...\n",
      " [9. 0. 0. ... 0. 0. 0.]\n",
      " [9. 2. 0. ... 0. 0. 0.]\n",
      " [9. 0. 0. ... 0. 0. 0.]]\n"
     ]
    }
   ],
   "source": [
    "# another way to descretecize, binning\n",
    "est = KBinsDiscretizer(n_bins= 10, encode='ordinal', strategy='uniform')\n",
    "est.fit(df)\n",
    "\n",
    "df_matrix = est.transform(df)\n",
    "\n",
    "print(df_matrix)"
   ]
  },
  {
   "cell_type": "code",
   "execution_count": 46,
   "metadata": {},
   "outputs": [],
   "source": [
    "#split data into training and testing\n",
    "#training data only contains positive values\n",
    "limit = 1500\n",
    "training_matrix = df_matrix[:limit]\n",
    "testing_matrix = df_matrix[limit:]\n",
    "testing_real_values = df.iloc[limit:, -1]\n",
    "testing_real_values = testing_real_values.tolist()\n",
    "training_matrix = np.delete(training_matrix,-1,1)\n",
    "testing_matrix = np.delete(testing_matrix,-1,1)\n"
   ]
  },
  {
   "cell_type": "code",
   "execution_count": 47,
   "metadata": {},
   "outputs": [
    {
     "data": {
      "text/plain": [
       "(array([   0.,    0.,    0.,    0.,    0., 1500.,    0.,    0.,    0.,\n",
       "           0.]),\n",
       " array([0.5, 0.6, 0.7, 0.8, 0.9, 1. , 1.1, 1.2, 1.3, 1.4, 1.5]),\n",
       " <BarContainer object of 10 artists>)"
      ]
     },
     "execution_count": 47,
     "metadata": {},
     "output_type": "execute_result"
    },
    {
     "data": {
      "image/png": "[encoded data removed]",
      "text/plain": [
       "<Figure size 640x480 with 1 Axes>"
      ]
     },
     "metadata": {},
     "output_type": "display_data"
    }
   ],
   "source": [
    "#checking that all training_matrix datapoints are positive\n",
    "plt.hist(df.iloc[:limit, -1])"
   ]
  },
  {
   "cell_type": "code",
   "execution_count": 48,
   "metadata": {},
   "outputs": [],
   "source": [
    "# algorithm 4.2 LGG conj\n",
    "\n",
    "def LGG_conj(instance, main_list):\n",
    "    \n",
    "    for i in range(len(instance)):\n",
    "        if instance[i] not in main_list[i]:\n",
    "            main_list[i].append(instance[i])\n",
    "    \n",
    "    return main_list"
   ]
  },
  {
   "cell_type": "code",
   "execution_count": 49,
   "metadata": {},
   "outputs": [
    {
     "name": "stdout",
     "output_type": "stream",
     "text": [
      "[[0.0, 1.0, 2.0, 3.0], [0.0, 2.0, 1.0, 4.0, 3.0, 5.0], [0.0, 1.0, 2.0, 3.0], [1.0, 0.0, 2.0, 5.0, 3.0, 4.0, 7.0, 6.0], [0.0, 1.0, 3.0, 9.0, 2.0, 4.0, 8.0], [0.0, 1.0, 2.0, 4.0, 6.0, 7.0, 3.0, 5.0], [0.0, 1.0, 2.0, 3.0, 4.0], [0.0, 1.0, 2.0, 3.0, 4.0, 7.0, 5.0, 9.0, 6.0], [0.0, 1.0, 2.0, 4.0, 3.0, 5.0], [0.0, 1.0, 2.0, 3.0, 6.0, 4.0], [0.0, 1.0, 2.0, 4.0], [0.0, 1.0, 3.0, 2.0, 5.0, 4.0, 7.0, 9.0, 6.0], [0.0, 1.0, 2.0, 3.0, 6.0, 4.0, 5.0], [0.0, 1.0, 2.0, 3.0, 9.0, 4.0], [0.0, 1.0, 4.0, 3.0, 2.0], [0.0, 3.0, 2.0, 5.0, 1.0, 4.0], [0.0, 2.0, 1.0, 5.0, 3.0], [0.0, 1.0, 2.0, 7.0, 3.0, 4.0, 5.0, 9.0, 6.0], [1.0, 0.0, 3.0, 5.0, 4.0, 2.0, 7.0], [1.0, 0.0, 2.0, 3.0, 6.0, 4.0], [0.0, 1.0, 2.0, 9.0, 3.0], [0.0, 1.0, 2.0, 3.0, 4.0, 5.0], [0.0, 5.0, 3.0, 1.0, 4.0, 2.0, 9.0, 6.0, 7.0], [0.0, 2.0, 1.0, 3.0, 4.0, 6.0, 5.0, 9.0, 8.0], [0.0, 2.0, 1.0, 9.0, 3.0, 5.0, 4.0], [0.0, 1.0], [0.0, 1.0], [0.0], [0.0, 9.0], [0.0], [0.0, 1.0, 3.0, 5.0], [0.0, 1.0], [0.0], [0.0, 1.0], [0.0, 2.0], [0.0], [0.0, 1.0, 2.0], [0.0, 1.0, 2.0, 4.0, 7.0], [0.0, 1.0], [0.0, 1.0], [0.0, 2.0, 3.0, 1.0, 4.0], [0.0], [0.0], [0.0, 1.0, 2.0], [0.0], [0.0, 1.0], [0.0], [0.0, 1.0, 2.0], [0.0], [0.0, 1.0, 2.0], [0.0, 1.0, 4.0], [0.0, 1.0, 2.0], [0.0, 1.0, 2.0], [0.0, 1.0, 2.0, 5.0, 3.0, 6.0, 8.0, 9.0], [0.0, 1.0, 6.0, 9.0, 2.0], [0.0, 1.0, 9.0, 6.0, 3.0, 4.0, 2.0, 5.0], [0.0, 1.0, 2.0], [0.0, 1.0, 2.0, 5.0, 9.0]]\n"
     ]
    }
   ],
   "source": [
    "main_list = []\n",
    "for values in training_matrix[0]:\n",
    "    main_list.append([values])\n",
    "    \n",
    "counter = 1\n",
    "while counter != len(training_matrix):\n",
    "    main_list = LGG_conj(training_matrix[counter], main_list)\n",
    "    counter +=1\n",
    "print(main_list)"
   ]
  },
  {
   "cell_type": "code",
   "execution_count": 50,
   "metadata": {},
   "outputs": [
    {
     "name": "stdout",
     "output_type": "stream",
     "text": [
      "166 2520 11 13\n",
      "99.11439114391143 % accuracy\n"
     ]
    }
   ],
   "source": [
    "#testing, compare main_list with testing_matrix, 0 = spam, 4 = not spam\n",
    "TP = 0\n",
    "FP = 0\n",
    "TN = 0\n",
    "FN = 0\n",
    "result = []\n",
    "\n",
    "def compare(instance, main_list):\n",
    "    for i in range(len(instance)):\n",
    "        if instance[i] not in main_list[i]:\n",
    "            result.append(0)\n",
    "            return\n",
    "    result.append(1)\n",
    "\n",
    "for instance in testing_matrix:\n",
    "    compare(instance, main_list)\n",
    "\n",
    "for i in range(len(result)):\n",
    "    if result[i] == testing_real_values[i] and result[i] == 1:\n",
    "        TP += 1\n",
    "    elif result[i] == testing_real_values[i] and result[i] == 0: \n",
    "        TN += 1\n",
    "    elif result[i] != testing_real_values[i] and result[i] == 1:\n",
    "        FP += 1\n",
    "    else:\n",
    "        FN += 1\n",
    "print(TP, TN, FP, FN)\n",
    "print((TP + TN)/(TP+TN+FP+FN)*100,\"%\",\"accuracy\")\n",
    "res = ([[TP, FP],\n",
    "[TN, FN]])\n"
   ]
  },
  {
   "cell_type": "code",
   "execution_count": 51,
   "metadata": {},
   "outputs": [
    {
     "data": {
      "image/png": "[encoded data removed]",
      "text/plain": [
       "<Figure size 640x480 with 1 Axes>"
      ]
     },
     "metadata": {},
     "output_type": "display_data"
    }
   ],
   "source": [
    "import matplotlib.pyplot as plt\n",
    "from mlxtend.evaluate import confusion_matrix\n",
    "from mlxtend.plotting import plot_confusion_matrix\n",
    "\n",
    "cm = confusion_matrix(y_target=testing_real_values, \n",
    "                      y_predicted=result, \n",
    "                      binary=True, \n",
    "                      positive_label=1)\n",
    "fig, ax = plot_confusion_matrix(conf_mat=cm)\n",
    "plt.show()"
   ]
  }
 ],
 "metadata": {
  "kernelspec": {
   "display_name": "Python 3.7.2 32-bit",
   "language": "python",
   "name": "python3"
  },
  "language_info": {
   "codemirror_mode": {
    "name": "ipython",
    "version": 3
   },
   "file_extension": ".py",
   "mimetype": "text/x-python",
   "name": "python",
   "nbconvert_exporter": "python",
   "pygments_lexer": "ipython3",
   "version": "3.7.2"
  },
  "orig_nbformat": 4,
  "vscode": {
   "interpreter": {
    "hash": "9873bf01affe70655d8bac656f41d3bcde1731e01b59a75f02bf9e84642802da"
   }
  }
 },
 "nbformat": 4,
 "nbformat_minor": 2
}
